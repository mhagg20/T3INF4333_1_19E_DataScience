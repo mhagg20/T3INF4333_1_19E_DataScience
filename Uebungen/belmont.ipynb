{
 "cells": [
  {
   "cell_type": "code",
   "execution_count": 8,
   "metadata": {},
   "outputs": [],
   "source": [
    "import pandas as pd\n",
    "import matplotlib.pyplot as plt\n",
    "import seaborn as sns\n",
    "import numpy as np\n",
    "import sys\n",
    "from scipy.stats import norm\n",
    "import scipy.stats as stats\n",
    "import pylab as pl\n",
    "from datetime import datetime\n",
    "\n",
    "belmont = pd.read_csv(\"Daten/belmont.csv\", sep = ';', decimal= \",\")\n",
    "secretariat = pd.read_csv(\"Daten/secretariat.csv\", sep = ';')"
   ]
  },
  {
   "cell_type": "code",
   "execution_count": 9,
   "metadata": {},
   "outputs": [
    {
     "name": "stdout",
     "output_type": "stream",
     "text": [
      "    Year            Winner           Jockey              Trainer  \\\n",
      "0   2016           Creator   Irad Ortiz, Jr       Steve Asmussen   \n",
      "1   2015  American Pharoah  Victor Espinoza          Bob Baffert   \n",
      "2   2014          Tonalist     Joel Rosario   Christophe Clement   \n",
      "3   2013     Palace Malice       Mike Smith        Todd Pletcher   \n",
      "4   2012        Union Rags   John Velazquez         Michael Matz   \n",
      "..   ...               ...              ...                  ...   \n",
      "86  1930       Gallant Fox       Earl Sande      Jim Fitzsimmons   \n",
      "87  1929     Blue Larkspur      Mack Garner  Herbert J. Thompson   \n",
      "88  1928              Vito  Clarence Kummer           Max Hirsch   \n",
      "89  1927       Chance Shot       Earl Sande           Pete Coyne   \n",
      "90  1926          Crusader   Albert Johnson        George Conway   \n",
      "\n",
      "                 Owner     Time  Miliseconds    Track    miles  Unnamed: 9  \n",
      "0     WinStar Farm LLC  2:28.51       148.51  Belmont  01. Mai        28.0  \n",
      "1   Zayat Stables, LLC  2:26.65       146.65  Belmont  01. Mai         NaN  \n",
      "2      Robert S. Evans  2:28.52       148.52  Belmont  01. Mai         NaN  \n",
      "3       Dogwood Stable  2:30.70       150.70  Belmont  01. Mai         NaN  \n",
      "4     Phyllis M. Wyeth  2:30.42       150.42  Belmont  01. Mai         NaN  \n",
      "..                 ...      ...          ...      ...      ...         ...  \n",
      "86         Belair Stud  2:31.60       151.60  Belmont  01. Mai         NaN  \n",
      "87   Edward R. Bradley  2:32.80       152.80  Belmont  01. Mai         NaN  \n",
      "88    Alfred H. Cosden  2:33.20       153.20  Belmont  01. Mai         NaN  \n",
      "89   Joseph E. Widener  2:32.40       152.40  Belmont  01. Mai         NaN  \n",
      "90    Glen Riddle Farm  2:32.20       152.20  Belmont  01. Mai         NaN  \n",
      "\n",
      "[91 rows x 10 columns]\n"
     ]
    }
   ],
   "source": [
    "print(belmont)"
   ]
  },
  {
   "cell_type": "code",
   "execution_count": 10,
   "metadata": {},
   "outputs": [
    {
     "name": "stdout",
     "output_type": "stream",
     "text": [
      "milliseconds: [148510.0, 146650.0, 148520.0, 150700.0, 150420.0, 150880.0, 151570.0, 147540.0, 149650.0, 148740.0, 147860.0, 148750.0, 147500.0, 148260.0, 149710.0, 146560.0, 151190.0, 147880.0, 149160.0, 148820.0, 148960.0, 152020.0, 146820.0, 149970.0, 146130.0, 148100.0, 147200.0, 146000.0, 146400.0, 148200.0, 149800.0, 147000.0, 147200.0, 147800.0, 148200.0, 149000.0, 149800.0, 148600.0, 146800.0, 149600.0, 149000.0, 148200.0, 149200.0, 144000.0, 148000.0, 150400.0, 154000.0, 148800.0, 147200.0, 148800.0, 149600.0, 148400.0, 148400.0, 150200.0, 148800.0, 149200.0, 149200.0, 148400.0, 150200.0, 146600.0, 149800.0, 149000.0, 150800.0, 148600.0, 150200.0, 149000.0, 148600.0, 150200.0, 148200.0, 149400.0, 150800.0, 150200.0, 152200.0, 148200.0, 149200.0, 151000.0, 149600.0, 149600.0, 149400.0, 148600.0, 150000.0, 150600.0, 149200.0, 152600.0, 152800.0, 149600.0, 151600.0, 152800.0, 153200.0, 152400.0, 152200.0]\n",
      "seconds: [148510.0, 146650.0, 148520.0, 150700.0, 150420.0, 150880.0, 151570.0, 147540.0, 149650.0, 148740.0, 147860.0, 148750.0, 147500.0, 148260.0, 149710.0, 146560.0, 151190.0, 147880.0, 149160.0, 148820.0, 148960.0, 152020.0, 146820.0, 149970.0, 146130.0, 148100.0, 147200.0, 146000.0, 146400.0, 148200.0, 149800.0, 147000.0, 147200.0, 147800.0, 148200.0, 149000.0, 149800.0, 148600.0, 146800.0, 149600.0, 149000.0, 148200.0, 149200.0, 144000.0, 148000.0, 150400.0, 154000.0, 148800.0, 147200.0, 148800.0, 149600.0, 148400.0, 148400.0, 150200.0, 148800.0, 149200.0, 149200.0, 148400.0, 150200.0, 146600.0, 149800.0, 149000.0, 150800.0, 148600.0, 150200.0, 149000.0, 148600.0, 150200.0, 148200.0, 149400.0, 150800.0, 150200.0, 152200.0, 148200.0, 149200.0, 151000.0, 149600.0, 149600.0, 149400.0, 148600.0, 150000.0, 150600.0, 149200.0, 152600.0, 152800.0, 149600.0, 151600.0, 152800.0, 153200.0, 152400.0, 152200.0]\n"
     ]
    }
   ],
   "source": [
    "def convertToMilli(time):\n",
    "    return time.minute * 6e4 + time.second * 1e3 + time.microsecond * 1e-3\n",
    "\n",
    "milliseconds = []\n",
    "seconds = []\n",
    "\n",
    "for t in pd.to_datetime(belmont['Time'], format='%M:%S.%f').dt.time:\n",
    "    milliseconds.append(convertToMilli(t))\n",
    "    \n",
    "for t in pd.to_datetime(belmont['Time'], format='%M:%S.%f').dt.time:\n",
    "    seconds.append(convertToMilli(t))\n",
    "\n",
    "print(\"milliseconds:\", milliseconds)\n",
    "print(\"seconds:\", seconds)"
   ]
  },
  {
   "cell_type": "code",
   "execution_count": 11,
   "metadata": {},
   "outputs": [
    {
     "name": "stdout",
     "output_type": "stream",
     "text": [
      "          Date        Horse  Fin Track  Distance Sf  \\\n",
      "0   10/28/1973  Secretariat  1st    WO   1 5/8 m  T   \n",
      "1   10/08/1973  Secretariat  1st   Bel    1 1/2m  T   \n",
      "2   09/29/1973  Secretariat  2nd   Bel    1 1/2m  D   \n",
      "3   09/15/1973  Secretariat  1st   Bel   1 1/8 m  D   \n",
      "4   08/04/1973  Secretariat  2nd   Sar   1 1/8 m  D   \n",
      "5   06/30/1973  Secretariat  1st    AP   1 1/8 m  D   \n",
      "6   06/09/1973  Secretariat  1st   Bel    1 1/2m  D   \n",
      "7   05/19/1973  Secretariat  1st   Pim  1 3/16 m  D   \n",
      "8   05/05/1973  Secretariat  1st    CD   1 1/4 m  D   \n",
      "9   04/21/1973  Secretariat  3rd   Aqu   1 1/8 m  D   \n",
      "10  04/07/1973  Secretariat  1st   Aqu    1 mile  D   \n",
      "11  03/17/1973  Secretariat  1st   Aqu       7 f  D   \n",
      "12  11/18/1972  Secretariat  1st    GS  1 1/16 m  D   \n",
      "13  10/28/1972  Secretariat  1st   Lrl  1 1/16 m  D   \n",
      "14  10/14/1972  Secretariat  2nd   Bel    1 mile  D   \n",
      "15  09/16/1972  Secretariat  1st   Bel   6 1/2 f  D   \n",
      "16  08/26/1972  Secretariat  1st   Sar   6 1/2 f  D   \n",
      "17  08/16/1972  Secretariat  1st   Sar       6 f  D   \n",
      "18  07/31/1972  Secretariat  1st   Sar       6 f  D   \n",
      "19  07/15/1972  Secretariat  1st   Aqu       6 f  D   \n",
      "20  07/04/1972  Secretariat  4th   Aqu   5 1/2 f  D   \n",
      "\n",
      "                                     Race Cnd             1st  \\\n",
      "0              Canadian International -G1  3+     Secretariat   \n",
      "1                    Man O' War Stakes-G1  3+     Secretariat   \n",
      "2                             Woodward-G1  3+       Prove Out   \n",
      "3   Marlboro Cup Invitational Handicap-G1  3+     Secretariat   \n",
      "4                              Whitney-G2  3+           Onion   \n",
      "5        Arlington Invitational Stakes-G1  3+     Secretariat   \n",
      "6                       Belmont Stakes-G1   3     Secretariat   \n",
      "7                     Preakness Stakes-G1   3     Secretariat   \n",
      "8                       Kentucky Derby-G1   3     Secretariat   \n",
      "9                        Wood Memorial-G1   3     Angle Light   \n",
      "10                              Gotham-G2   3     Secretariat   \n",
      "11                           Bay Shore-G3   3     Secretariat   \n",
      "12                  Garden State Futurity   2     Secretariat   \n",
      "13                        Laurel Futurity   2     Secretariat   \n",
      "14                              Champagne   2  Stop The Music   \n",
      "15                               Futurity   2     Secretariat   \n",
      "16                                Hopeful   2     Secretariat   \n",
      "17                                Sanford   2     Secretariat   \n",
      "18                                  Allow   2     Secretariat   \n",
      "19                                    MSW   2     Secretariat   \n",
      "20                                    MSW   2         Herbull   \n",
      "\n",
      "                  2nd               3rd     Time  \n",
      "0          Big Spruce        Golden Don  2:41.80  \n",
      "1              Tentam        Big Spruce  2:24.80  \n",
      "2         Secretariat         Cougar II  2:25.80  \n",
      "3          Riva Ridge         Cougar II  1:45.40  \n",
      "4         Secretariat    Rule By Reason  1:49.20  \n",
      "5          My Gallant        Our Native  1:47.00  \n",
      "6      Twice A Prince        My Gallant  2:24.00  \n",
      "7                Sham        Our Native  1:53.00  \n",
      "8                Sham        Our Native  1:59.40  \n",
      "9                Sham       Secretariat  1:49.80  \n",
      "10  Champagne Charlie             Flush  1:33.40  \n",
      "11  Champagne Charlie       Impecunious  1:23.20  \n",
      "12        Angle Light       Step Nicely  1:44.24  \n",
      "13     Stop The Music       Angle Light  1:42.80  \n",
      "14        Secretariat       Step Nicely  1:35.00  \n",
      "15     Stop The Music     Swift Courier  1:16.40  \n",
      "16    Flight To Glory    Stop The Music  1:16.20  \n",
      "17      Linda's Chief  Northstar Dancer  1:10.00  \n",
      "18         Russ Miron            Joe Iz  1:10.80  \n",
      "19    Master Achiever          Be On It  1:10.60  \n",
      "20    Master Achiever     Fleet N Royal  1:05.00  \n"
     ]
    }
   ],
   "source": [
    "print(secretariat)"
   ]
  },
  {
   "cell_type": "code",
   "execution_count": 12,
   "metadata": {},
   "outputs": [
    {
     "name": "stdout",
     "output_type": "stream",
     "text": [
      "Die durchschnittliche Zeit zwischen zwei Siegen liegt bei 29.375 Tagen.\n"
     ]
    }
   ],
   "source": [
    "secretariat[\"Date\"] = pd.to_datetime(secretariat[\"Date\"], format='%m/%d/%Y')\n",
    "\n",
    "# Alle Daten mit Secretariat auf Platz 1\n",
    "ersterPlatz = secretariat[secretariat[\"Fin\"] == \"1st\"]\n",
    "\n",
    "# Datensätze nach Datum aufsteigend sortieren und resetten des Index\n",
    "ersterPlatz = ersterPlatz.sort_values(by=\"Date\", ascending=True).reset_index()\n",
    "\n",
    "tage = 0\n",
    "\n",
    "# Tage der Datensätze addieren \n",
    "for key, time in ersterPlatz['Date'].items():\n",
    "    if (key == 0):\n",
    "        continue\n",
    "    tage += (time - ersterPlatz['Date'][key - 1]).days\n",
    "\n",
    "schnitt = tage / len(ersterPlatz)\n",
    "\n",
    "# Output of the found value\n",
    "print(\"Die durchschnittliche Zeit zwischen zwei Siegen liegt bei\", schnitt, \"Tagen.\")"
   ]
  },
  {
   "cell_type": "code",
   "execution_count": 13,
   "metadata": {},
   "outputs": [
    {
     "data": {
      "image/png": "[encoded data removed]",
      "text/plain": [
       "<Figure size 432x288 with 1 Axes>"
      ]
     },
     "metadata": {
      "needs_background": "light"
     },
     "output_type": "display_data"
    }
   ],
   "source": [
    "waitingTimeInDays = np.random.exponential(schnitt, size=100000)\n",
    "\n",
    "# Diagramm erzeugen\n",
    "_ = plt.hist(waitingTimeInDays, bins=100, histtype='step', density=True)\n",
    "_ = plt.xlabel('Waiting Time (Days)')\n",
    "_ = plt.ylabel('PDF')\n",
    "plt.show()"
   ]
  },
  {
   "cell_type": "code",
   "execution_count": 14,
   "metadata": {},
   "outputs": [
    {
     "data": {
      "image/png": "[encoded data removed]",
      "text/plain": [
       "<Figure size 432x288 with 1 Axes>"
      ]
     },
     "metadata": {
      "needs_background": "light"
     },
     "output_type": "display_data"
    }
   ],
   "source": [
    "def cdf(df):\n",
    "    \"\"\"Cumulative distribution function.\"\"\"\n",
    "    sq = df.value_counts()\n",
    "    return sq.sort_index().cumsum()*1./len(sq)\n",
    "\n",
    "cd = cdf(pd.DataFrame(waitingTimeInDays))\n",
    "\n",
    "# Diagramm erzeugen\n",
    "_ = plt.plot(cd.index.tolist(), cd.tolist())\n",
    "_ = plt.ylabel(\"CDF\")\n",
    "_ = plt.xlabel(\"Days\")\n",
    "plt.show()"
   ]
  }
 ],
 "metadata": {
  "kernelspec": {
   "display_name": "Python 3 (ipykernel)",
   "language": "python",
   "name": "python3"
  },
  "language_info": {
   "codemirror_mode": {
    "name": "ipython",
    "version": 3
   },
   "file_extension": ".py",
   "mimetype": "text/x-python",
   "name": "python",
   "nbconvert_exporter": "python",
   "pygments_lexer": "ipython3",
   "version": "3.9.2"
  }
 },
 "nbformat": 4,
 "nbformat_minor": 4
}
