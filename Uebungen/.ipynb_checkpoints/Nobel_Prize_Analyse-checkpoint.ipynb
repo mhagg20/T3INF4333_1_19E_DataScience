{
 "cells": [
  {
   "cell_type": "code",
   "execution_count": 1,
   "metadata": {},
   "outputs": [],
   "source": [
    "#Imports\n",
    "import matplotlib.pyplot as plt\n",
    "import seaborn as sns\n",
    "import sklearn.datasets\n",
    "import numpy as np\n",
    "import pandas as pd\n",
    "from datetime import datetime\n",
    "\n",
    "#Allgemeine initialisierungen\n",
    "data = pd.read_csv(\"Daten/data_nobel_prize.csv\", sep = ',')\n",
    "sns.set()"
   ]
  },
  {
   "cell_type": "code",
   "execution_count": 2,
   "metadata": {},
   "outputs": [],
   "source": [
    "#Who gets the Nobel Prize?"
   ]
  },
  {
   "cell_type": "code",
   "execution_count": 3,
   "metadata": {},
   "outputs": [
    {
     "name": "stdout",
     "output_type": "stream",
     "text": [
      "0      Jacobus Henricus van 't Hoff\n",
      "1                   Sully Prudhomme\n",
      "2            Emil Adolf von Behring\n",
      "3                 Jean Henry Dunant\n",
      "4                    Frédéric Passy\n",
      "                   ...             \n",
      "964                Yoshinori Ohsumi\n",
      "965              Juan Manuel Santos\n",
      "966               David J. Thouless\n",
      "967            F. Duncan M. Haldane\n",
      "968           J. Michael Kosterlitz\n",
      "Name: Full Name, Length: 969, dtype: object\n"
     ]
    }
   ],
   "source": [
    "print(data['Full Name']) "
   ]
  },
  {
   "cell_type": "code",
   "execution_count": 4,
   "metadata": {},
   "outputs": [],
   "source": [
    "#The gender of the Nobel Prize winners? (Natural persons only)"
   ]
  },
  {
   "cell_type": "code",
   "execution_count": 5,
   "metadata": {},
   "outputs": [
    {
     "data": {
      "image/png": "[encoded data removed]",
      "text/plain": [
       "<Figure size 432x288 with 1 Axes>"
      ]
     },
     "metadata": {},
     "output_type": "display_data"
    }
   ],
   "source": [
    "#Pie chart for the distribution of men and women. Organizations have no sex and therefore they are not considered by \"data['Sex'].value_counts()\".\n",
    "plt.pie(data['Sex'].value_counts(), labels = ['Male', 'Female'], colors = sns.color_palette('pastel')[0:2], autopct='%.0f%%')\n",
    "plt.show()"
   ]
  },
  {
   "cell_type": "code",
   "execution_count": 6,
   "metadata": {},
   "outputs": [],
   "source": [
    "#The gender of the Nobel Prize winners? (All winners included)"
   ]
  },
  {
   "cell_type": "code",
   "execution_count": 7,
   "metadata": {},
   "outputs": [
    {
     "ename": "NameError",
     "evalue": "name 'num_orgs' is not defined",
     "output_type": "error",
     "traceback": [
      "\u001b[1;31m---------------------------------------------------------------------------\u001b[0m",
      "\u001b[1;31mNameError\u001b[0m                                 Traceback (most recent call last)",
      "\u001b[1;32m~\\AppData\\Local\\Temp/ipykernel_16240/1338935860.py\u001b[0m in \u001b[0;36m<module>\u001b[1;34m\u001b[0m\n\u001b[0;32m      2\u001b[0m \u001b[0mnat_pers_sex\u001b[0m \u001b[1;33m=\u001b[0m \u001b[0mdata\u001b[0m\u001b[1;33m.\u001b[0m\u001b[0mgroupby\u001b[0m\u001b[1;33m(\u001b[0m\u001b[1;33m[\u001b[0m\u001b[1;34m\"Sex\"\u001b[0m\u001b[1;33m]\u001b[0m\u001b[1;33m)\u001b[0m\u001b[1;33m.\u001b[0m\u001b[0mcount\u001b[0m\u001b[1;33m(\u001b[0m\u001b[1;33m)\u001b[0m\u001b[1;33m[\u001b[0m\u001b[1;34m\"Full Name\"\u001b[0m\u001b[1;33m]\u001b[0m\u001b[1;33m\u001b[0m\u001b[1;33m\u001b[0m\u001b[0m\n\u001b[0;32m      3\u001b[0m \u001b[0morganisation_count\u001b[0m \u001b[1;33m=\u001b[0m \u001b[0mdata\u001b[0m\u001b[1;33m[\u001b[0m\u001b[0mdata\u001b[0m\u001b[1;33m[\u001b[0m\u001b[1;34m\"Laureate Type\"\u001b[0m\u001b[1;33m]\u001b[0m \u001b[1;33m==\u001b[0m \u001b[1;34m\"Organization\"\u001b[0m\u001b[1;33m]\u001b[0m\u001b[1;33m.\u001b[0m\u001b[0mcount\u001b[0m\u001b[1;33m(\u001b[0m\u001b[1;33m)\u001b[0m\u001b[1;33m[\u001b[0m\u001b[1;34m\"Full Name\"\u001b[0m\u001b[1;33m]\u001b[0m\u001b[1;33m\u001b[0m\u001b[1;33m\u001b[0m\u001b[0m\n\u001b[1;32m----> 4\u001b[1;33m \u001b[0msex\u001b[0m \u001b[1;33m=\u001b[0m \u001b[1;33m[\u001b[0m\u001b[0mnat_pers_sex\u001b[0m\u001b[1;33m[\u001b[0m\u001b[1;34m\"Male\"\u001b[0m\u001b[1;33m]\u001b[0m\u001b[1;33m,\u001b[0m \u001b[0mnat_pers_sex\u001b[0m\u001b[1;33m[\u001b[0m\u001b[1;34m\"Female\"\u001b[0m\u001b[1;33m]\u001b[0m\u001b[1;33m,\u001b[0m \u001b[0mnum_orgs\u001b[0m\u001b[1;33m]\u001b[0m\u001b[1;33m\u001b[0m\u001b[1;33m\u001b[0m\u001b[0m\n\u001b[0m\u001b[0;32m      5\u001b[0m \u001b[0mplt\u001b[0m\u001b[1;33m.\u001b[0m\u001b[0mpie\u001b[0m\u001b[1;33m(\u001b[0m\u001b[0msex\u001b[0m\u001b[1;33m,\u001b[0m \u001b[0mlabels\u001b[0m \u001b[1;33m=\u001b[0m \u001b[1;33m[\u001b[0m\u001b[1;34m'Male'\u001b[0m\u001b[1;33m,\u001b[0m \u001b[1;34m'Female'\u001b[0m\u001b[1;33m,\u001b[0m \u001b[1;34m'Organization'\u001b[0m\u001b[1;33m]\u001b[0m\u001b[1;33m,\u001b[0m \u001b[0mcolors\u001b[0m \u001b[1;33m=\u001b[0m \u001b[0msns\u001b[0m\u001b[1;33m.\u001b[0m\u001b[0mcolor_palette\u001b[0m\u001b[1;33m(\u001b[0m\u001b[1;34m'pastel'\u001b[0m\u001b[1;33m)\u001b[0m\u001b[1;33m[\u001b[0m\u001b[1;36m0\u001b[0m\u001b[1;33m:\u001b[0m\u001b[1;36m3\u001b[0m\u001b[1;33m]\u001b[0m\u001b[1;33m,\u001b[0m \u001b[0mautopct\u001b[0m\u001b[1;33m=\u001b[0m\u001b[1;34m'%.0f%%'\u001b[0m\u001b[1;33m)\u001b[0m\u001b[1;33m\u001b[0m\u001b[1;33m\u001b[0m\u001b[0m\n\u001b[0;32m      6\u001b[0m \u001b[0mplt\u001b[0m\u001b[1;33m.\u001b[0m\u001b[0mshow\u001b[0m\u001b[1;33m(\u001b[0m\u001b[1;33m)\u001b[0m\u001b[1;33m\u001b[0m\u001b[1;33m\u001b[0m\u001b[0m\n",
      "\u001b[1;31mNameError\u001b[0m: name 'num_orgs' is not defined"
     ]
    }
   ],
   "source": [
    "#Pie chart for the distribution of men, women and organizations. Organizations are separately filtered by \"Laureate Type\" and added to the distribution.\n",
    "nat_pers_sex = data.groupby([\"Sex\"]).count()[\"Full Name\"]\n",
    "organisation_count = data[data[\"Laureate Type\"] == \"Organization\"].count()[\"Full Name\"]\n",
    "sex = [nat_pers_sex[\"Male\"], nat_pers_sex[\"Female\"], num_orgs]\n",
    "plt.pie(sex, labels = ['Male', 'Female', 'Organization'], colors = sns.color_palette('pastel')[0:3], autopct='%.0f%%')\n",
    "plt.show()"
   ]
  },
  {
   "cell_type": "code",
   "execution_count": null,
   "metadata": {},
   "outputs": [],
   "source": [
    "#Age of the winners in a bar chart"
   ]
  },
  {
   "cell_type": "code",
   "execution_count": null,
   "metadata": {},
   "outputs": [],
   "source": [
    "#From the full database, only the non-organization records are filled.\n",
    "nat_persons = data[data[\"Laureate Type\"] != \"Organization\"]\n",
    "ages = []\n",
    "\n",
    "for index, row in nat_persons.iterrows():\n",
    "    #Ignore invalid records\n",
    "    if \"00-00\" not in str(nat_persons[\"Birth Date\"][index]) and \"nan\" not in str(nat_persons[\"Birth Date\"][index]):\n",
    "        age = abs((datetime.strptime(str(nat_persons[\"Year\"][index]), '%Y') - datetime.strptime(str(nat_persons[\"Birth Date\"][index]), '%Y-%m-%d')).days / 365)\n",
    "        ages.append(int(age))\n",
    "    else:\n",
    "        nat_persons.drop(index, inplace=True)\n",
    "\n",
    "#Add the new column \"Data\" to the data and set the values from \"ages\".\n",
    "nat_persons[\"Age\"] = ages\n",
    "_ = plt.hist(ages)\n",
    "_ = plt.xlabel('Anzahl der Personen')\n",
    "_ = plt.ylabel('Alter')\n",
    "plt.show()"
   ]
  },
  {
   "cell_type": "code",
   "execution_count": null,
   "metadata": {},
   "outputs": [],
   "source": [
    "#Show the youngest and oldest Nobel Prize winner."
   ]
  },
  {
   "cell_type": "code",
   "execution_count": null,
   "metadata": {},
   "outputs": [],
   "source": [
    "#Sort datasets by \"Age\" and print the first and last dataset.\n",
    "sortierte_daten = nat_persons.sort_values(by=['Age'])\n",
    "print(sortierte_daten.iloc[[0, -1]][['Full Name', 'Year', 'Birth Date', 'Year', 'Age']])"
   ]
  },
  {
   "cell_type": "code",
   "execution_count": null,
   "metadata": {},
   "outputs": [],
   "source": [
    "#Plot winners with more then 1 Nobel Prize"
   ]
  },
  {
   "cell_type": "code",
   "execution_count": null,
   "metadata": {},
   "outputs": [],
   "source": [
    "#Group the winners by there name\n",
    "winner_group = data.groupby([\"Full Name\"]).mean()\n",
    "winner_group[\"Num Prizes\"] = data.groupby([\"Full Name\"]).count()[\"Prize\"]\n",
    "\n",
    "#Remove records with less than or equal to one Nobel Prize\n",
    "indexPrizes = winner_group[winner_group['Num Prizes'] <= 1 ].index\n",
    "winner_group.drop(indexPrizes, inplace=True)\n",
    "\n",
    "#Sort the datasets\n",
    "winner_group = winner_group.sort_values(by=['Num Prizes'])\n",
    "print(winner_group)"
   ]
  },
  {
   "cell_type": "code",
   "execution_count": null,
   "metadata": {},
   "outputs": [],
   "source": []
  }
 ],
 "metadata": {
  "kernelspec": {
   "display_name": "Python 3 (ipykernel)",
   "language": "python",
   "name": "python3"
  },
  "language_info": {
   "codemirror_mode": {
    "name": "ipython",
    "version": 3
   },
   "file_extension": ".py",
   "mimetype": "text/x-python",
   "name": "python",
   "nbconvert_exporter": "python",
   "pygments_lexer": "ipython3",
   "version": "3.9.2"
  }
 },
 "nbformat": 4,
 "nbformat_minor": 4
}
