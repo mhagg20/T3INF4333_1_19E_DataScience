{
 "cells": [
  {
   "cell_type": "markdown",
   "metadata": {},
   "source": [
    "# Prüfungsleistung Data Science"
   ]
  },
  {
   "cell_type": "markdown",
   "metadata": {},
   "source": [
    "- Matthias Hagg \n",
    "- 4392350 \n",
    "- T-INF19E"
   ]
  },
  {
   "cell_type": "markdown",
   "metadata": {},
   "source": [
    "---"
   ]
  },
  {
   "cell_type": "markdown",
   "metadata": {
    "tags": []
   },
   "source": [
    "# Themengebiet"
   ]
  },
  {
   "cell_type": "markdown",
   "metadata": {},
   "source": [
    "ARMA Modell zum Klimawandel"
   ]
  },
  {
   "cell_type": "markdown",
   "metadata": {},
   "source": [
    "---"
   ]
  },
  {
   "cell_type": "markdown",
   "metadata": {},
   "source": [
    "## Imports"
   ]
  },
  {
   "cell_type": "code",
   "execution_count": null,
   "metadata": {},
   "outputs": [],
   "source": [
    "#Imports aller benötigten Biblioteken\n",
    "import matplotlib.pyplot as plt\n",
    "import seaborn as sns\n",
    "import sklearn.datasets\n",
    "import numpy as np\n",
    "import pandas as pd\n",
    "import statistics\n",
    "import copy\n",
    "import statsmodels.api as sm\n",
    "from datetime import datetime\n",
    "from matplotlib.pyplot import figure\n",
    "from pandas.plotting import lag_plot\n",
    "from pandas import DataFrame\n",
    "from pandas import concat\n",
    "from statsmodels.tsa.ar_model import AutoReg\n",
    "from statsmodels.tsa.stattools import adfuller\n",
    "from sklearn.metrics import mean_squared_error\n",
    "from math import sqrt\n",
    "from datetime import timedelta\n",
    "from statsmodels.graphics.tsaplots import plot_pacf\n",
    "from statsmodels.graphics.tsaplots import plot_acf\n",
    "from sklearn.linear_model import LinearRegression\n",
    "\n",
    "#Einlesen und speichern der Datensets. \n",
    "#Die Variable \"daten_groß\" beinhaltet das Datenset zu den täglichen Wetterdaten von 1985 bis 2021. (13473 Datensätze)\n",
    "#Die Variable \"daten_klein\" beinhaltet das Datenset zu den täglichen Wetterdaten von 2019 bis 2020. (731 Datensätze)\n",
    "daten_groß = pd.read_csv(\"Daten/climatechange_basel.csv\", sep = ';')           # 1985 bis 2021\n",
    "daten_klein = pd.read_csv(\"Daten/climatechange_basel_2_Jahre.csv\", sep = ';')  # 2019 bis 2020\n",
    "\n",
    "sns.set()"
   ]
  },
  {
   "cell_type": "markdown",
   "metadata": {},
   "source": [
    "---"
   ]
  },
  {
   "cell_type": "markdown",
   "metadata": {},
   "source": [
    "## Task 1"
   ]
  },
  {
   "cell_type": "markdown",
   "metadata": {},
   "source": [
    "### Performa an EDA and plot the data. What can you see now?"
   ]
  },
  {
   "cell_type": "code",
   "execution_count": null,
   "metadata": {},
   "outputs": [],
   "source": [
    "#Deepcopy der Daten, um die Grunddaten nicht zu beeinflussen.\n",
    "daten_lokal_1=copy.deepcopy(daten_klein)\n",
    "\n",
    "#Timestamp besteht in Grunddaten aus Datum und Uhrzeit. Da Nur das Datum benötigt wird, wird der Timestamp entsprechend zugeschnitten.\n",
    "daten_lokal_1[\"timestamp\"]=daten_lokal_1[\"timestamp\"].str[0:10]\n",
    "\n",
    "#Erstellen der Grafik:\n",
    "#Festlegen der Größe, Titel und Schrittweite\n",
    "#Darstellung: Gemessene Temperaturen (täglich) von 2019 bis 2020\n",
    "plt.figure(figsize=(20, 6))\n",
    "plt.plot(daten_lokal_1[\"timestamp\"], daten_lokal_1[\"Basel Temperature [2 m elevation corrected]\"])\n",
    "plt.xticks(np.arange(0, 731, step=91.25))\n",
    "plt.title(\"Grafische Darstellung der gemessenen Temperaturen in den Jahren 2019 bis 2020\")\n",
    "plt.show()"
   ]
  },
  {
   "cell_type": "code",
   "execution_count": null,
   "metadata": {},
   "outputs": [],
   "source": [
    "#Deepcopy der Daten, um die Grunddaten nicht zu beeinflussen.\n",
    "daten_lokal_2=copy.deepcopy(daten_groß)\n",
    "\n",
    "#Timestamp besteht in Grunddaten aus Datum und Uhrzeit. Da Nur das Datum benötigt wird, wird der Timestamp entsprechend zugeschnitten.\n",
    "daten_lokal_2[\"timestamp\"]=daten_lokal_2[\"timestamp\"].str[0:10]\n",
    "\n",
    "#Erstellen der Grafik:\n",
    "#Festlegen der Größe, Titel und Schrittweite\n",
    "#Darstellung: Gemessene Temperaturen (täglich) von 1985 bis 2021\n",
    "plt.figure(figsize=(20, 6))\n",
    "plt.plot(daten_lokal_2[\"timestamp\"], daten_lokal_2[\"Basel Temperature [2 m elevation corrected]\"])\n",
    "plt.xticks(np.arange(0, 13473, step=1826.15))\n",
    "plt.title(\"Grafische Darstellung der gemessenen Temperaturen in den Jahren 1985 bis 2021.\")\n",
    "plt.show()"
   ]
  },
  {
   "cell_type": "code",
   "execution_count": null,
   "metadata": {
    "tags": []
   },
   "outputs": [],
   "source": [
    "#Deepcopy der Daten, um die Grunddaten nicht zu beeinflussen.\n",
    "daten_lokal_3=copy.deepcopy(daten_groß)\n",
    "\n",
    "#Timestamp besteht in Grunddaten aus Datum und Uhrzeit. Da Nur das Datum benötigt wird, wird der Timestamp entsprechend zugeschnitten.\n",
    "daten_lokal_3[\"timestamp\"]=daten_lokal_3[\"timestamp\"].str[0:4]\n",
    "\n",
    "#Startjahr für die Schleife. Soll das kleine Datenset verwendet werden, muss das Startjahr auf 2019 gesetzt werden.\n",
    "startjahr=1985\n",
    "\n",
    "#Anlegen der für die Berechnung benötigten Listen\n",
    "jahre=[]\n",
    "temp_min=[]\n",
    "temp_max=[]\n",
    "temp_schnitt=[]\n",
    "\n",
    "#Temperaturdaten anhand der Jahre gruppieren\n",
    "jahresgruppen = daten_lokal_3.groupby([\"timestamp\"])\n",
    "\n",
    "#Schleife um alle Jahresgruppen zu durchlaufen. Soll das kleine Datenset verwendet werden, muss die Abbruchbedingung auf 2020 gesetzt werden.\n",
    "while startjahr <= 2021:\n",
    "    \n",
    "    #Erhalte alle Daten aus dem aktuellen Jahr\n",
    "    gruppendatensatz=jahresgruppen.get_group(str(startjahr))\n",
    "    \n",
    "    #Daten in zuvor angelegte Listen speichern. Gespeichert werden Jahr, höchst-, geringste- und niedrigste Temperatur\n",
    "    jahre.append(startjahr)\n",
    "    temp_min.append(min((gruppendatensatz[\"Basel Temperature [2 m elevation corrected]\"])))\n",
    "    temp_max.append(max((gruppendatensatz[\"Basel Temperature [2 m elevation corrected]\"])))\n",
    "    temp_schnitt.append(statistics.mean(gruppendatensatz[\"Basel Temperature [2 m elevation corrected]\"]))\n",
    "    \n",
    "    #Erhöhung des nächsten Jahres für den nächsten Schleifendurchlauf\n",
    "    startjahr=startjahr+1\n",
    "\n",
    "#Erstellen der Grafik:\n",
    "#Festlegen der Größe, Titel und Schrittweite\n",
    "#Darstellung: Höchsten (rot), geringsten (blau) und durchschnittlich (grau) gemessenen Temperaturen in den Jahren 1985 bis 2021.\n",
    "plt.figure(figsize=(20, 6))\n",
    "plt.title(\"Grafische Darstellung der höchsten, geringsten und durchschnittlich gemessenen Temperaturen in den Jahren 1985 bis 2021.\")\n",
    "plt.plot(jahre, temp_min, color = 'tab:blue')\n",
    "plt.plot(jahre, temp_max, color = 'tab:red')\n",
    "plt.plot(jahre, temp_schnitt, color = 'tab:grey')\n",
    "plt.show()"
   ]
  },
  {
   "cell_type": "markdown",
   "metadata": {
    "tags": []
   },
   "source": [
    "Aus den drei oben dargestellten Temperaturdaten as Basel lassen sich folgende Aussagen treffen:\n",
    "- Basel hatte in den Jahren 2019 und 2020 im Tagesschnitt keine Temperaturen unter 0°C.\n",
    "- Die kältesten Temperaturen in den Jahren 1985 bis 2021 steigen tendenziell leicht an.\n",
    "- Die Temperatur im Jahresmittel steigt tendenziell im Zeitraum von 1985 bis 2021 an."
   ]
  },
  {
   "cell_type": "markdown",
   "metadata": {},
   "source": [
    "---"
   ]
  },
  {
   "cell_type": "markdown",
   "metadata": {},
   "source": [
    "## Task 2"
   ]
  },
  {
   "cell_type": "markdown",
   "metadata": {},
   "source": [
    "### Is Temperature a Random Walk (with Drift)?"
   ]
  },
  {
   "cell_type": "markdown",
   "metadata": {},
   "source": [
    "An ARMA model is a simplistic approach to forecasting climate changes, but it illustrates many of the topics covered in this class.\n",
    "Plot the data and test whether it follows a random walk (with drift)."
   ]
  },
  {
   "cell_type": "code",
   "execution_count": null,
   "metadata": {},
   "outputs": [],
   "source": [
    "#Beispiel eines Random Walk\n",
    "#Bei Random Walk stehen die Folgewerte immer in Verbindung mit den zuvor festgelegten Werten.\n",
    "mean = 0\n",
    "sigma = 0.5\n",
    "n_pts = 365\n",
    "\n",
    "#Erzeuge Daten und Zufallszahlen\n",
    "dates = pd.date_range(start='1/1/2019', periods=n_pts)\n",
    "epsilon = np.random.normal(mean,sigma,n_pts)\n",
    "\n",
    "#Erzeuge Daten, welche bei auf den voerhergegangenen Wert addiert werden\n",
    "y0 = 0\n",
    "vals = y0 + np.cumsum(epsilon) \n",
    "time_series =  pd.Series(vals, index=dates)\n",
    "\n",
    "#Erstellen der Grafik Random Walk ohne Drift\n",
    "plt.title(\"Random Walk ohne Drift\")\n",
    "ax = time_series.plot(figsize=(14,6))\n",
    "ax.set_ylabel(\"Value\")\n",
    "ax.set_xlabel(\"Date\")\n",
    "plt.show()"
   ]
  },
  {
   "cell_type": "code",
   "execution_count": null,
   "metadata": {},
   "outputs": [],
   "source": [
    "#Beispiel eines Random Walk mit Drift (auf Basis von Werten aus vorherigem Code-Beispiel)\n",
    "#Bei Random Walk stehen die Folgewerte immer in Verbindung mit den zuvor festgelegten Werten, werden jedoch durch eine definierte\n",
    "#Konstante beinflusst\n",
    "drift = 0.05\n",
    "drift_werte = y0 + np.cumsum(epsilon + drift) \n",
    "time_drift =  pd.Series(drift_werte, index=dates)\n",
    "\n",
    "#Erstellen der Grafik\n",
    "#Blaue Linie stellt den Random Walk ohne Drift dar\n",
    "#Orangene Linie stellt den Random Walk mit Drift dar\n",
    "plt.title(\"Random Walk mit und ohne Drift im Vergleich\")\n",
    "ax = time_series.plot(figsize=(14,6))\n",
    "time_drift.plot()\n",
    "ax.set_ylabel(\"Value\")\n",
    "ax.set_xlabel(\"Date\")\n",
    "plt.show()"
   ]
  },
  {
   "cell_type": "markdown",
   "metadata": {},
   "source": [
    "Entsprechend der Definition und der beiden Beispiele von Random Walk und Random Walk mit Drift lassen sich folgende Aussagen treffen:\n",
    "- Temperaturverläufe sind ein Random Walk\n",
    "    - Temperaturverläufe entstehen nicht zufällig. Die Temperatur an Tag y1 ist nicht vollständig unabhängig von der Temperatur a Tag y0, dennoch können die Werte zufällig steigen bzw. sinken.\n",
    "- Temperaturverläufe haben einen Drift\n",
    "    - Temperaturverläufe besitzen zwei Arten von Drift. \n",
    "        - Auf kürzere Laufzeit sind sie der Jahreszeit und damit saisonalen Verläufen unterworfen. Somit entsteht hier ein Sommer/Winter-Drift.\n",
    "        - Auf Längere Sicht gibt es einen Anstieg der durchschnittlichen Jahrestemperatur (siehe Task 1), welcher ebenfalle einen leichten Drift in höhere Werte darstellt."
   ]
  },
  {
   "cell_type": "markdown",
   "metadata": {},
   "source": [
    "---"
   ]
  },
  {
   "cell_type": "markdown",
   "metadata": {},
   "source": [
    "## Task 3"
   ]
  },
  {
   "cell_type": "markdown",
   "metadata": {},
   "source": [
    "### Look at Autocorrelations"
   ]
  },
  {
   "cell_type": "markdown",
   "metadata": {},
   "source": [
    "If the temperature series is a random walk with drift, take first differences to make it stationary. Then compute the sample ACF and PACF. This will provide some guidance on the order of the model."
   ]
  },
  {
   "cell_type": "code",
   "execution_count": null,
   "metadata": {},
   "outputs": [],
   "source": [
    "#Deepcopy der Daten, um die Grunddaten nicht zu beeinflussen. Zusätzlich reduzieren auf Zeitstempel und Temperaturen.\n",
    "daten_lokal_4 = copy.deepcopy(daten_groß)\n",
    "temperaturen = daten_lokal_4[[\"timestamp\", \"Basel Temperature [2 m elevation corrected]\"]]\n",
    "\n",
    "#Prüfung ob die Daten stationär sind\n",
    "X=temperaturen[\"Basel Temperature [2 m elevation corrected]\"].values\n",
    "result=adfuller(X)\n",
    "print('ADF Static: %f' % result[0])\n",
    "print('p-value: %f' % result[1])\n",
    "print('Critical Values:')\n",
    "for key, value in result[4].items():\n",
    "    print('\\t%s: %.3f' % (key, value))\n",
    "\n",
    "if result[0] < result[4]['5%']:\n",
    "    print('Die Daten sind Stationär')\n",
    "else:\n",
    "    print('Die Daten sind nicht Stationär')"
   ]
  },
  {
   "cell_type": "code",
   "execution_count": null,
   "metadata": {},
   "outputs": [],
   "source": [
    "#Plot ACF der Daten\n",
    "plot_acf(X, lags=13470)"
   ]
  },
  {
   "cell_type": "code",
   "execution_count": null,
   "metadata": {},
   "outputs": [],
   "source": [
    "#Plot PACF der Daten\n",
    "plot_pacf(X, lags=1000)"
   ]
  },
  {
   "cell_type": "code",
   "execution_count": null,
   "metadata": {},
   "outputs": [],
   "source": [
    "#Deepcopy der Daten, um die Grunddaten nicht zu beeinflussen. Zusätzlich reduzieren auf Temperaturen.\n",
    "daten_lokal_5 = copy.deepcopy(daten_groß)\n",
    "series = daten_lokal_5[\"Basel Temperature [2 m elevation corrected]\"]\n",
    "\n",
    "#Temperaturdaten in values speichern und shiften\n",
    "values = DataFrame(series.values)\n",
    "dataframe = concat([values.shift(1), values], axis=1)\n",
    "\n",
    "#Berechnung der Korrelation und ausgabe\n",
    "dataframe.columns = ['t-1', 't+1']\n",
    "result = dataframe.corr()\n",
    "print(result)"
   ]
  },
  {
   "cell_type": "markdown",
   "metadata": {},
   "source": [
    "- Bei diesen Temperaturdaten liegt eine stark positive Korrelation vor.\n",
    "    - Die Korrelation liegt mit rund 0.9 sehr nahe der 1. Dies sagt aus, dass die einzelnen Temperaturdaten eine hohe gegenseitige Beziehung zueinander haben. Eine postitive Korrelation bedeutet, das die Werte über eine längeren Bereich ansteigen."
   ]
  },
  {
   "cell_type": "markdown",
   "metadata": {},
   "source": [
    "---"
   ]
  },
  {
   "cell_type": "markdown",
   "metadata": {
    "tags": []
   },
   "source": [
    "## Task 4"
   ]
  },
  {
   "cell_type": "markdown",
   "metadata": {},
   "source": [
    "### Which ARMA Model is Best?"
   ]
  },
  {
   "cell_type": "markdown",
   "metadata": {},
   "source": [
    "Recall from theory that the Akaike Information Criterion (AIC) can be used to compare models with different numbers of parameters. It measures goodness-of-fit, but places a penalty on models with more parameters to discourage overfitting. Lower AIC scores are better.\n",
    "\n",
    "Fit the temperature data to an AR(1), AR(2), and ARMA(1,1) and see which model is the best fit, using the AIC criterion. The AR(2) and ARMA(1,1) models have one more parameter than the AR(1) has."
   ]
  },
  {
   "cell_type": "code",
   "execution_count": null,
   "metadata": {
    "tags": []
   },
   "outputs": [],
   "source": [
    "#Die Temperaturdaten werden für das Jahr 2020 auf Basis der Jahre 1985 bis 2019 vorhergesagt"
   ]
  },
  {
   "cell_type": "code",
   "execution_count": null,
   "metadata": {
    "tags": []
   },
   "outputs": [],
   "source": [
    "#AR mit einfachem Shift\n",
    "#Deepcopy der Daten, um die Grunddaten nicht zu beeinflussen. Zusätzlich reduzieren auf Zeitstempel und Temperaturen.\n",
    "daten_lokal_6 = copy.deepcopy(daten_groß)\n",
    "temperaturen = daten_lokal_6[[\"timestamp\", \"Basel Temperature [2 m elevation corrected]\"]]\n",
    "\n",
    "#Daten für extraktion der Jaheszahl \"duplizieren\" und Timestamp auf erste 4 Stellen (Jahreszahl) zuschneiden\n",
    "daten_lokal_6_year=daten_lokal_6\n",
    "daten_lokal_6_year[\"timestamp\"]=daten_lokal_6[\"timestamp\"].str[0:4]\n",
    "\n",
    "#Temperaturwerte in X speichert und shiften\n",
    "X=temperaturen[\"Basel Temperature [2 m elevation corrected]\"].values\n",
    "temperaturen[\"Temperaturen verschoben\"] = temperaturen[\"Basel Temperature [2 m elevation corrected]\"].shift()\n",
    "\n",
    "#Nicht benötigte Datensätze (Spalte Timestamp und NaN-Werte) löschen\n",
    "temperaturen.drop('timestamp', axis=1, inplace=True)\n",
    "temperaturen.dropna(inplace=True)\n",
    "\n",
    "#Ursprüngliche und geshiftete Daten zuweisen\n",
    "y = temperaturen[\"Basel Temperature [2 m elevation corrected]\"].values\n",
    "X = temperaturen[\"Temperaturen verschoben\"].values"
   ]
  },
  {
   "cell_type": "code",
   "execution_count": null,
   "metadata": {
    "tags": []
   },
   "outputs": [],
   "source": [
    "#Werte für vorraussage festlegen\n",
    "jahr_der_vorhersage = len(daten_lokal_6_year.groupby([\"timestamp\"]).get_group(str(2020)))\n",
    "ausblenden_2021 = len(daten_lokal_6_year.groupby([\"timestamp\"]).get_group(str(2021)))\n",
    "jahre_gesamt = len(daten_lokal_6)\n",
    "training_groesse = int((jahre_gesamt-jahr_der_vorhersage-ausblenden_2021)*0.8)\n",
    "\n",
    "#Trainings- und Testdaten setzen\n",
    "x_train, x_test = X[0:training_groesse], X[training_groesse:training_groesse+jahr_der_vorhersage]\n",
    "y_train, y_test = X[0:training_groesse], X[training_groesse:training_groesse+jahr_der_vorhersage]\n",
    "\n",
    "#Reshape der Daten\n",
    "x_train = x_train.reshape(-1,1)\n",
    "x_test = x_test.reshape(-1,1)\n",
    "\n",
    "#Vorhersage erstellen\n",
    "lr = LinearRegression()\n",
    "lr.fit(x_train, y_train)\n",
    "vorhersage = lr.predict(x_test)\n",
    "\n",
    "#Erstellen der Grafik\n",
    "plt.figure(figsize=(20, 6))\n",
    "plt.title(\"Vorhersage Jahr 2020\")\n",
    "plt.plot(y_test[0:], label=\"Echter Wert\", color = 'tab:blue')\n",
    "plt.plot(vorhersage[0:], label=\"Vorhersage\", color = 'tab:red')\n",
    "plt.legend()\n",
    "plt.show()"
   ]
  },
  {
   "cell_type": "code",
   "execution_count": null,
   "metadata": {
    "tags": []
   },
   "outputs": [],
   "source": [
    "#AR mit zweifachem Shift\n",
    "#Deepcopy der Daten, um die Grunddaten nicht zu beeinflussen. Zusätzlich reduzieren auf Zeitstempel und Temperaturen.\n",
    "daten_lokal_7 = copy.deepcopy(daten_groß)\n",
    "temperaturen = daten_lokal_7[[\"timestamp\", \"Basel Temperature [2 m elevation corrected]\"]]\n",
    "\n",
    "#Daten für extraktion der Jaheszahl \"duplizieren\" und Timestamp auf erste 4 Stellen (Jahreszahl) zuschneiden\n",
    "daten_lokal_7_year=daten_lokal_7\n",
    "daten_lokal_7_year[\"timestamp\"]=daten_lokal_7[\"timestamp\"].str[0:4]\n",
    "\n",
    "#Temperaturwerte in X speichert und 2 Mal shiften\n",
    "X=temperaturen[\"Basel Temperature [2 m elevation corrected]\"].values\n",
    "temperaturen[\"Temperaturen verschoben\"] = temperaturen[\"Basel Temperature [2 m elevation corrected]\"].shift()\n",
    "temperaturen[\"Temperaturen verschoben x2\"] = temperaturen[\"Temperaturen verschoben\"].shift()\n",
    "\n",
    "#Nicht benötigte Datensätze (Spalte Timestamp und NaN-Werte) löschen\n",
    "temperaturen.drop('timestamp', axis=1, inplace=True)\n",
    "temperaturen.drop('Temperaturen verschoben', axis=1, inplace=True)\n",
    "temperaturen.dropna(inplace=True)\n",
    "\n",
    "#Ursprüngliche und geshiftete Daten zuweisen\n",
    "y = temperaturen[\"Basel Temperature [2 m elevation corrected]\"].values\n",
    "x = temperaturen[\"Temperaturen verschoben x2\"].values"
   ]
  },
  {
   "cell_type": "code",
   "execution_count": null,
   "metadata": {
    "tags": []
   },
   "outputs": [],
   "source": [
    "#Werte für vorraussage festlegen\n",
    "jahr_der_vorhersage = len(daten_lokal_7_year.groupby([\"timestamp\"]).get_group(str(2020)))\n",
    "ausblenden_2021 = len(daten_lokal_7_year.groupby([\"timestamp\"]).get_group(str(2021)))\n",
    "jahre_gesamt = len(daten_lokal_7)\n",
    "training_groesse = int((jahre_gesamt-jahr_der_vorhersage-ausblenden_2021)*0.8)\n",
    "\n",
    "#Trainings- und Testdaten setzen\n",
    "x_train, x_test = X[0:training_groesse], X[training_groesse:training_groesse+jahr_der_vorhersage]\n",
    "y_train, y_test = X[0:training_groesse], X[training_groesse:training_groesse+jahr_der_vorhersage]\n",
    "\n",
    "#Reshape der Daten\n",
    "x_train = x_train.reshape(-1,1)\n",
    "x_test = x_test.reshape(-1,1)\n",
    "\n",
    "#Vorhersage erstellen\n",
    "lr = LinearRegression()\n",
    "lr.fit(x_train, y_train)\n",
    "vorhersage = lr.predict(x_test)\n",
    "\n",
    "#Erstellen der Grafik\n",
    "plt.figure(figsize=(20, 6))\n",
    "plt.title(\"Vorhersage Jahr 2020\")\n",
    "plt.plot(y_test[0:], label=\"Echter Wert\", color = 'tab:blue')\n",
    "plt.plot(vorhersage[0:], label=\"Vorhersage\", color = 'tab:red')\n",
    "plt.legend()\n",
    "plt.show()"
   ]
  }
 ],
 "metadata": {
  "kernelspec": {
   "display_name": "Python 3 (ipykernel)",
   "language": "python",
   "name": "python3"
  },
  "language_info": {
   "codemirror_mode": {
    "name": "ipython",
    "version": 3
   },
   "file_extension": ".py",
   "mimetype": "text/x-python",
   "name": "python",
   "nbconvert_exporter": "python",
   "pygments_lexer": "ipython3",
   "version": "3.9.2"
  }
 },
 "nbformat": 4,
 "nbformat_minor": 4
}
